{
 "cells": [
  {
   "cell_type": "code",
   "execution_count": 858,
   "metadata": {},
   "outputs": [],
   "source": [
    "import pandas as pd\n",
    "import numpy as np"
   ]
  },
  {
   "cell_type": "code",
   "execution_count": 859,
   "metadata": {},
   "outputs": [
    {
     "data": {
      "text/plain": [
       "Series([], dtype: int64)"
      ]
     },
     "execution_count": 859,
     "metadata": {},
     "output_type": "execute_result"
    }
   ],
   "source": [
    "df_mi = pd.read_csv('Cleaned12_1.csv')\n",
    "#df1 = df_mi.dropna(subset=['obesity_student'])\n",
    "df2 = df_mi.dropna(axis=1)\n",
    "table =df2.isnull().sum()\n",
    "table[table>0]"
   ]
  },
  {
   "cell_type": "code",
   "execution_count": 860,
   "metadata": {},
   "outputs": [
    {
     "data": {
      "text/plain": [
       "(1967, 389)"
      ]
     },
     "execution_count": 860,
     "metadata": {},
     "output_type": "execute_result"
    }
   ],
   "source": [
    "df2.shape"
   ]
  },
  {
   "cell_type": "code",
   "execution_count": 861,
   "metadata": {},
   "outputs": [
    {
     "data": {
      "text/html": [
       "<div>\n",
       "<style scoped>\n",
       "    .dataframe tbody tr th:only-of-type {\n",
       "        vertical-align: middle;\n",
       "    }\n",
       "\n",
       "    .dataframe tbody tr th {\n",
       "        vertical-align: top;\n",
       "    }\n",
       "\n",
       "    .dataframe thead th {\n",
       "        text-align: right;\n",
       "    }\n",
       "</style>\n",
       "<table border=\"1\" class=\"dataframe\">\n",
       "  <thead>\n",
       "    <tr style=\"text-align: right;\">\n",
       "      <th></th>\n",
       "      <th>Unnamed: 0</th>\n",
       "      <th>id0</th>\n",
       "      <th>q2_m_edu</th>\n",
       "      <th>q3_m_job</th>\n",
       "      <th>q4_m_jobtype</th>\n",
       "      <th>q8_f_edu</th>\n",
       "      <th>q9_f_job</th>\n",
       "      <th>q10_f_jobtype</th>\n",
       "      <th>q13_mom_livewith</th>\n",
       "      <th>q13_f_livewith</th>\n",
       "      <th>...</th>\n",
       "      <th>q11_f_weight</th>\n",
       "      <th>q12_f_height</th>\n",
       "      <th>student_age</th>\n",
       "      <th>s_q5_gender</th>\n",
       "      <th>s_weight</th>\n",
       "      <th>s_height</th>\n",
       "      <th>obese_s_01</th>\n",
       "      <th>overweight_obese_s</th>\n",
       "      <th>obese_s_012</th>\n",
       "      <th>waist_cuttoff_y2</th>\n",
       "    </tr>\n",
       "  </thead>\n",
       "  <tbody>\n",
       "    <tr>\n",
       "      <th>0</th>\n",
       "      <td>1</td>\n",
       "      <td>0</td>\n",
       "      <td>4</td>\n",
       "      <td>3</td>\n",
       "      <td>10</td>\n",
       "      <td>5</td>\n",
       "      <td>1</td>\n",
       "      <td>8</td>\n",
       "      <td>1</td>\n",
       "      <td>1</td>\n",
       "      <td>...</td>\n",
       "      <td>82.0</td>\n",
       "      <td>175.0</td>\n",
       "      <td>9.52</td>\n",
       "      <td>1</td>\n",
       "      <td>53.0</td>\n",
       "      <td>147.0</td>\n",
       "      <td>1</td>\n",
       "      <td>1</td>\n",
       "      <td>2</td>\n",
       "      <td>0</td>\n",
       "    </tr>\n",
       "    <tr>\n",
       "      <th>1</th>\n",
       "      <td>2</td>\n",
       "      <td>1</td>\n",
       "      <td>8</td>\n",
       "      <td>1</td>\n",
       "      <td>3</td>\n",
       "      <td>8</td>\n",
       "      <td>1</td>\n",
       "      <td>3</td>\n",
       "      <td>1</td>\n",
       "      <td>1</td>\n",
       "      <td>...</td>\n",
       "      <td>90.0</td>\n",
       "      <td>180.0</td>\n",
       "      <td>9.46</td>\n",
       "      <td>1</td>\n",
       "      <td>31.9</td>\n",
       "      <td>137.0</td>\n",
       "      <td>0</td>\n",
       "      <td>0</td>\n",
       "      <td>0</td>\n",
       "      <td>0</td>\n",
       "    </tr>\n",
       "    <tr>\n",
       "      <th>2</th>\n",
       "      <td>3</td>\n",
       "      <td>2</td>\n",
       "      <td>3</td>\n",
       "      <td>3</td>\n",
       "      <td>10</td>\n",
       "      <td>5</td>\n",
       "      <td>1</td>\n",
       "      <td>9</td>\n",
       "      <td>1</td>\n",
       "      <td>1</td>\n",
       "      <td>...</td>\n",
       "      <td>55.0</td>\n",
       "      <td>175.0</td>\n",
       "      <td>10.40</td>\n",
       "      <td>1</td>\n",
       "      <td>36.9</td>\n",
       "      <td>143.0</td>\n",
       "      <td>0</td>\n",
       "      <td>0</td>\n",
       "      <td>0</td>\n",
       "      <td>0</td>\n",
       "    </tr>\n",
       "    <tr>\n",
       "      <th>3</th>\n",
       "      <td>4</td>\n",
       "      <td>3</td>\n",
       "      <td>3</td>\n",
       "      <td>3</td>\n",
       "      <td>10</td>\n",
       "      <td>4</td>\n",
       "      <td>1</td>\n",
       "      <td>8</td>\n",
       "      <td>1</td>\n",
       "      <td>1</td>\n",
       "      <td>...</td>\n",
       "      <td>60.0</td>\n",
       "      <td>175.0</td>\n",
       "      <td>10.15</td>\n",
       "      <td>1</td>\n",
       "      <td>65.7</td>\n",
       "      <td>145.0</td>\n",
       "      <td>1</td>\n",
       "      <td>1</td>\n",
       "      <td>2</td>\n",
       "      <td>1</td>\n",
       "    </tr>\n",
       "    <tr>\n",
       "      <th>4</th>\n",
       "      <td>5</td>\n",
       "      <td>4</td>\n",
       "      <td>5</td>\n",
       "      <td>3</td>\n",
       "      <td>10</td>\n",
       "      <td>3</td>\n",
       "      <td>1</td>\n",
       "      <td>7</td>\n",
       "      <td>1</td>\n",
       "      <td>1</td>\n",
       "      <td>...</td>\n",
       "      <td>98.0</td>\n",
       "      <td>170.0</td>\n",
       "      <td>9.68</td>\n",
       "      <td>1</td>\n",
       "      <td>33.8</td>\n",
       "      <td>144.0</td>\n",
       "      <td>0</td>\n",
       "      <td>0</td>\n",
       "      <td>0</td>\n",
       "      <td>0</td>\n",
       "    </tr>\n",
       "  </tbody>\n",
       "</table>\n",
       "<p>5 rows × 389 columns</p>\n",
       "</div>"
      ],
      "text/plain": [
       "   Unnamed: 0  id0  q2_m_edu  q3_m_job  q4_m_jobtype  q8_f_edu  q9_f_job  \\\n",
       "0           1    0         4         3            10         5         1   \n",
       "1           2    1         8         1             3         8         1   \n",
       "2           3    2         3         3            10         5         1   \n",
       "3           4    3         3         3            10         4         1   \n",
       "4           5    4         5         3            10         3         1   \n",
       "\n",
       "   q10_f_jobtype  q13_mom_livewith  q13_f_livewith        ...         \\\n",
       "0              8                 1               1        ...          \n",
       "1              3                 1               1        ...          \n",
       "2              9                 1               1        ...          \n",
       "3              8                 1               1        ...          \n",
       "4              7                 1               1        ...          \n",
       "\n",
       "   q11_f_weight  q12_f_height  student_age  s_q5_gender  s_weight  s_height  \\\n",
       "0          82.0         175.0         9.52            1      53.0     147.0   \n",
       "1          90.0         180.0         9.46            1      31.9     137.0   \n",
       "2          55.0         175.0        10.40            1      36.9     143.0   \n",
       "3          60.0         175.0        10.15            1      65.7     145.0   \n",
       "4          98.0         170.0         9.68            1      33.8     144.0   \n",
       "\n",
       "   obese_s_01  overweight_obese_s  obese_s_012  waist_cuttoff_y2  \n",
       "0           1                   1            2                 0  \n",
       "1           0                   0            0                 0  \n",
       "2           0                   0            0                 0  \n",
       "3           1                   1            2                 1  \n",
       "4           0                   0            0                 0  \n",
       "\n",
       "[5 rows x 389 columns]"
      ]
     },
     "execution_count": 861,
     "metadata": {},
     "output_type": "execute_result"
    }
   ],
   "source": [
    "df2.head()"
   ]
  },
  {
   "cell_type": "code",
   "execution_count": 862,
   "metadata": {},
   "outputs": [
    {
     "name": "stderr",
     "output_type": "stream",
     "text": [
      "/Users/fanwenyu/anaconda3/lib/python3.6/site-packages/ipykernel_launcher.py:2: SettingWithCopyWarning: \n",
      "A value is trying to be set on a copy of a slice from a DataFrame.\n",
      "Try using .loc[row_indexer,col_indexer] = value instead\n",
      "\n",
      "See the caveats in the documentation: http://pandas.pydata.org/pandas-docs/stable/indexing.html#indexing-view-versus-copy\n",
      "  \n",
      "/Users/fanwenyu/anaconda3/lib/python3.6/site-packages/ipykernel_launcher.py:3: SettingWithCopyWarning: \n",
      "A value is trying to be set on a copy of a slice from a DataFrame.\n",
      "Try using .loc[row_indexer,col_indexer] = value instead\n",
      "\n",
      "See the caveats in the documentation: http://pandas.pydata.org/pandas-docs/stable/indexing.html#indexing-view-versus-copy\n",
      "  This is separate from the ipykernel package so we can avoid doing imports until\n",
      "/Users/fanwenyu/anaconda3/lib/python3.6/site-packages/ipykernel_launcher.py:4: SettingWithCopyWarning: \n",
      "A value is trying to be set on a copy of a slice from a DataFrame.\n",
      "Try using .loc[row_indexer,col_indexer] = value instead\n",
      "\n",
      "See the caveats in the documentation: http://pandas.pydata.org/pandas-docs/stable/indexing.html#indexing-view-versus-copy\n",
      "  after removing the cwd from sys.path.\n",
      "/Users/fanwenyu/anaconda3/lib/python3.6/site-packages/ipykernel_launcher.py:5: SettingWithCopyWarning: \n",
      "A value is trying to be set on a copy of a slice from a DataFrame.\n",
      "Try using .loc[row_indexer,col_indexer] = value instead\n",
      "\n",
      "See the caveats in the documentation: http://pandas.pydata.org/pandas-docs/stable/indexing.html#indexing-view-versus-copy\n",
      "  \"\"\"\n"
     ]
    },
    {
     "data": {
      "text/html": [
       "<div>\n",
       "<style scoped>\n",
       "    .dataframe tbody tr th:only-of-type {\n",
       "        vertical-align: middle;\n",
       "    }\n",
       "\n",
       "    .dataframe tbody tr th {\n",
       "        vertical-align: top;\n",
       "    }\n",
       "\n",
       "    .dataframe thead th {\n",
       "        text-align: right;\n",
       "    }\n",
       "</style>\n",
       "<table border=\"1\" class=\"dataframe\">\n",
       "  <thead>\n",
       "    <tr style=\"text-align: right;\">\n",
       "      <th></th>\n",
       "      <th>Unnamed: 0</th>\n",
       "      <th>id0</th>\n",
       "      <th>q2_m_edu</th>\n",
       "      <th>q3_m_job</th>\n",
       "      <th>q4_m_jobtype</th>\n",
       "      <th>q8_f_edu</th>\n",
       "      <th>q9_f_job</th>\n",
       "      <th>q10_f_jobtype</th>\n",
       "      <th>q13_mom_livewith</th>\n",
       "      <th>q13_f_livewith</th>\n",
       "      <th>...</th>\n",
       "      <th>s_weight</th>\n",
       "      <th>s_height</th>\n",
       "      <th>obese_s_01</th>\n",
       "      <th>overweight_obese_s</th>\n",
       "      <th>obese_s_012</th>\n",
       "      <th>waist_cuttoff_y2</th>\n",
       "      <th>m_bmi</th>\n",
       "      <th>f_bmi</th>\n",
       "      <th>obese_m_012</th>\n",
       "      <th>obese_f_012</th>\n",
       "    </tr>\n",
       "  </thead>\n",
       "  <tbody>\n",
       "    <tr>\n",
       "      <th>0</th>\n",
       "      <td>1</td>\n",
       "      <td>0</td>\n",
       "      <td>4</td>\n",
       "      <td>3</td>\n",
       "      <td>10</td>\n",
       "      <td>5</td>\n",
       "      <td>1</td>\n",
       "      <td>8</td>\n",
       "      <td>1</td>\n",
       "      <td>1</td>\n",
       "      <td>...</td>\n",
       "      <td>53.0</td>\n",
       "      <td>147.0</td>\n",
       "      <td>1</td>\n",
       "      <td>1</td>\n",
       "      <td>2</td>\n",
       "      <td>0</td>\n",
       "      <td>21.258469</td>\n",
       "      <td>26.775510</td>\n",
       "      <td>False</td>\n",
       "      <td>1</td>\n",
       "    </tr>\n",
       "    <tr>\n",
       "      <th>1</th>\n",
       "      <td>2</td>\n",
       "      <td>1</td>\n",
       "      <td>8</td>\n",
       "      <td>1</td>\n",
       "      <td>3</td>\n",
       "      <td>8</td>\n",
       "      <td>1</td>\n",
       "      <td>3</td>\n",
       "      <td>1</td>\n",
       "      <td>1</td>\n",
       "      <td>...</td>\n",
       "      <td>31.9</td>\n",
       "      <td>137.0</td>\n",
       "      <td>0</td>\n",
       "      <td>0</td>\n",
       "      <td>0</td>\n",
       "      <td>0</td>\n",
       "      <td>30.421850</td>\n",
       "      <td>27.777778</td>\n",
       "      <td>2</td>\n",
       "      <td>1</td>\n",
       "    </tr>\n",
       "    <tr>\n",
       "      <th>2</th>\n",
       "      <td>3</td>\n",
       "      <td>2</td>\n",
       "      <td>3</td>\n",
       "      <td>3</td>\n",
       "      <td>10</td>\n",
       "      <td>5</td>\n",
       "      <td>1</td>\n",
       "      <td>9</td>\n",
       "      <td>1</td>\n",
       "      <td>1</td>\n",
       "      <td>...</td>\n",
       "      <td>36.9</td>\n",
       "      <td>143.0</td>\n",
       "      <td>0</td>\n",
       "      <td>0</td>\n",
       "      <td>0</td>\n",
       "      <td>0</td>\n",
       "      <td>29.384757</td>\n",
       "      <td>17.959184</td>\n",
       "      <td>1</td>\n",
       "      <td>False</td>\n",
       "    </tr>\n",
       "    <tr>\n",
       "      <th>3</th>\n",
       "      <td>4</td>\n",
       "      <td>3</td>\n",
       "      <td>3</td>\n",
       "      <td>3</td>\n",
       "      <td>10</td>\n",
       "      <td>4</td>\n",
       "      <td>1</td>\n",
       "      <td>8</td>\n",
       "      <td>1</td>\n",
       "      <td>1</td>\n",
       "      <td>...</td>\n",
       "      <td>65.7</td>\n",
       "      <td>145.0</td>\n",
       "      <td>1</td>\n",
       "      <td>1</td>\n",
       "      <td>2</td>\n",
       "      <td>1</td>\n",
       "      <td>52.000000</td>\n",
       "      <td>19.591837</td>\n",
       "      <td>2</td>\n",
       "      <td>False</td>\n",
       "    </tr>\n",
       "    <tr>\n",
       "      <th>4</th>\n",
       "      <td>5</td>\n",
       "      <td>4</td>\n",
       "      <td>5</td>\n",
       "      <td>3</td>\n",
       "      <td>10</td>\n",
       "      <td>3</td>\n",
       "      <td>1</td>\n",
       "      <td>7</td>\n",
       "      <td>1</td>\n",
       "      <td>1</td>\n",
       "      <td>...</td>\n",
       "      <td>33.8</td>\n",
       "      <td>144.0</td>\n",
       "      <td>0</td>\n",
       "      <td>0</td>\n",
       "      <td>0</td>\n",
       "      <td>0</td>\n",
       "      <td>24.609375</td>\n",
       "      <td>33.910035</td>\n",
       "      <td>False</td>\n",
       "      <td>2</td>\n",
       "    </tr>\n",
       "  </tbody>\n",
       "</table>\n",
       "<p>5 rows × 393 columns</p>\n",
       "</div>"
      ],
      "text/plain": [
       "   Unnamed: 0  id0  q2_m_edu  q3_m_job  q4_m_jobtype  q8_f_edu  q9_f_job  \\\n",
       "0           1    0         4         3            10         5         1   \n",
       "1           2    1         8         1             3         8         1   \n",
       "2           3    2         3         3            10         5         1   \n",
       "3           4    3         3         3            10         4         1   \n",
       "4           5    4         5         3            10         3         1   \n",
       "\n",
       "   q10_f_jobtype  q13_mom_livewith  q13_f_livewith     ...       s_weight  \\\n",
       "0              8                 1               1     ...           53.0   \n",
       "1              3                 1               1     ...           31.9   \n",
       "2              9                 1               1     ...           36.9   \n",
       "3              8                 1               1     ...           65.7   \n",
       "4              7                 1               1     ...           33.8   \n",
       "\n",
       "   s_height  obese_s_01  overweight_obese_s  obese_s_012  waist_cuttoff_y2  \\\n",
       "0     147.0           1                   1            2                 0   \n",
       "1     137.0           0                   0            0                 0   \n",
       "2     143.0           0                   0            0                 0   \n",
       "3     145.0           1                   1            2                 1   \n",
       "4     144.0           0                   0            0                 0   \n",
       "\n",
       "       m_bmi      f_bmi  obese_m_012  obese_f_012  \n",
       "0  21.258469  26.775510        False            1  \n",
       "1  30.421850  27.777778            2            1  \n",
       "2  29.384757  17.959184            1        False  \n",
       "3  52.000000  19.591837            2        False  \n",
       "4  24.609375  33.910035        False            2  \n",
       "\n",
       "[5 rows x 393 columns]"
      ]
     },
     "execution_count": 862,
     "metadata": {},
     "output_type": "execute_result"
    }
   ],
   "source": [
    "df_clean = df2\n",
    "df_clean['m_bmi']=df_clean['q5_m_weight']/(df_clean['q6_m_height']/100)**2\n",
    "df_clean['f_bmi']=df_clean['q11_f_weight']/(df_clean['q12_f_height']/100)**2\n",
    "df_clean['obese_m_012']=df_clean['m_bmi'].map(lambda x:(x<25 and int(0)) or (30>x>25 and int(1.0)) or (x>25 and int(2.0)))\n",
    "df_clean['obese_f_012']=df_clean['f_bmi'].map(lambda x:(x<25 and int(0)) or (30>x>25 and int(1.0)) or (x>25 and int(2.0)))\n",
    "df_clean.head()"
   ]
  },
  {
   "cell_type": "code",
   "execution_count": 863,
   "metadata": {},
   "outputs": [],
   "source": [
    "#prepare the data set\n",
    "from sklearn.preprocessing import StandardScaler\n"
   ]
  },
  {
   "cell_type": "code",
   "execution_count": 864,
   "metadata": {},
   "outputs": [
    {
     "data": {
      "text/html": [
       "<div>\n",
       "<style scoped>\n",
       "    .dataframe tbody tr th:only-of-type {\n",
       "        vertical-align: middle;\n",
       "    }\n",
       "\n",
       "    .dataframe tbody tr th {\n",
       "        vertical-align: top;\n",
       "    }\n",
       "\n",
       "    .dataframe thead th {\n",
       "        text-align: right;\n",
       "    }\n",
       "</style>\n",
       "<table border=\"1\" class=\"dataframe\">\n",
       "  <thead>\n",
       "    <tr style=\"text-align: right;\">\n",
       "      <th></th>\n",
       "      <th>q2_m_edu</th>\n",
       "      <th>q3_m_job</th>\n",
       "      <th>q4_m_jobtype</th>\n",
       "      <th>q8_f_edu</th>\n",
       "      <th>q9_f_job</th>\n",
       "      <th>q10_f_jobtype</th>\n",
       "      <th>q13_mom_livewith</th>\n",
       "      <th>q13_f_livewith</th>\n",
       "      <th>q13_child_live</th>\n",
       "      <th>q13_grand_live</th>\n",
       "      <th>...</th>\n",
       "      <th>asset_private_toilet</th>\n",
       "      <th>SES_lower</th>\n",
       "      <th>SES_medium</th>\n",
       "      <th>SES_higher</th>\n",
       "      <th>wealth_groups</th>\n",
       "      <th>policyHT3</th>\n",
       "      <th>policyHT4</th>\n",
       "      <th>policyLH2</th>\n",
       "      <th>obese_m_012</th>\n",
       "      <th>obese_f_012</th>\n",
       "    </tr>\n",
       "  </thead>\n",
       "  <tbody>\n",
       "    <tr>\n",
       "      <th>0</th>\n",
       "      <td>4</td>\n",
       "      <td>3</td>\n",
       "      <td>10</td>\n",
       "      <td>5</td>\n",
       "      <td>1</td>\n",
       "      <td>8</td>\n",
       "      <td>1</td>\n",
       "      <td>1</td>\n",
       "      <td>1</td>\n",
       "      <td>0</td>\n",
       "      <td>...</td>\n",
       "      <td>1</td>\n",
       "      <td>0</td>\n",
       "      <td>1</td>\n",
       "      <td>0</td>\n",
       "      <td>3</td>\n",
       "      <td>1</td>\n",
       "      <td>0</td>\n",
       "      <td>0</td>\n",
       "      <td>False</td>\n",
       "      <td>1</td>\n",
       "    </tr>\n",
       "    <tr>\n",
       "      <th>1</th>\n",
       "      <td>8</td>\n",
       "      <td>1</td>\n",
       "      <td>3</td>\n",
       "      <td>8</td>\n",
       "      <td>1</td>\n",
       "      <td>3</td>\n",
       "      <td>1</td>\n",
       "      <td>1</td>\n",
       "      <td>1</td>\n",
       "      <td>0</td>\n",
       "      <td>...</td>\n",
       "      <td>1</td>\n",
       "      <td>1</td>\n",
       "      <td>0</td>\n",
       "      <td>0</td>\n",
       "      <td>3</td>\n",
       "      <td>1</td>\n",
       "      <td>0</td>\n",
       "      <td>0</td>\n",
       "      <td>2</td>\n",
       "      <td>1</td>\n",
       "    </tr>\n",
       "    <tr>\n",
       "      <th>2</th>\n",
       "      <td>3</td>\n",
       "      <td>3</td>\n",
       "      <td>10</td>\n",
       "      <td>5</td>\n",
       "      <td>1</td>\n",
       "      <td>9</td>\n",
       "      <td>1</td>\n",
       "      <td>1</td>\n",
       "      <td>1</td>\n",
       "      <td>0</td>\n",
       "      <td>...</td>\n",
       "      <td>1</td>\n",
       "      <td>0</td>\n",
       "      <td>1</td>\n",
       "      <td>0</td>\n",
       "      <td>3</td>\n",
       "      <td>1</td>\n",
       "      <td>0</td>\n",
       "      <td>0</td>\n",
       "      <td>1</td>\n",
       "      <td>False</td>\n",
       "    </tr>\n",
       "    <tr>\n",
       "      <th>3</th>\n",
       "      <td>3</td>\n",
       "      <td>3</td>\n",
       "      <td>10</td>\n",
       "      <td>4</td>\n",
       "      <td>1</td>\n",
       "      <td>8</td>\n",
       "      <td>1</td>\n",
       "      <td>1</td>\n",
       "      <td>1</td>\n",
       "      <td>0</td>\n",
       "      <td>...</td>\n",
       "      <td>1</td>\n",
       "      <td>1</td>\n",
       "      <td>0</td>\n",
       "      <td>0</td>\n",
       "      <td>3</td>\n",
       "      <td>1</td>\n",
       "      <td>0</td>\n",
       "      <td>0</td>\n",
       "      <td>2</td>\n",
       "      <td>False</td>\n",
       "    </tr>\n",
       "    <tr>\n",
       "      <th>4</th>\n",
       "      <td>5</td>\n",
       "      <td>3</td>\n",
       "      <td>10</td>\n",
       "      <td>3</td>\n",
       "      <td>1</td>\n",
       "      <td>7</td>\n",
       "      <td>1</td>\n",
       "      <td>1</td>\n",
       "      <td>1</td>\n",
       "      <td>0</td>\n",
       "      <td>...</td>\n",
       "      <td>1</td>\n",
       "      <td>1</td>\n",
       "      <td>0</td>\n",
       "      <td>0</td>\n",
       "      <td>2</td>\n",
       "      <td>1</td>\n",
       "      <td>1</td>\n",
       "      <td>0</td>\n",
       "      <td>False</td>\n",
       "      <td>2</td>\n",
       "    </tr>\n",
       "  </tbody>\n",
       "</table>\n",
       "<p>5 rows × 377 columns</p>\n",
       "</div>"
      ],
      "text/plain": [
       "   q2_m_edu  q3_m_job  q4_m_jobtype  q8_f_edu  q9_f_job  q10_f_jobtype  \\\n",
       "0         4         3            10         5         1              8   \n",
       "1         8         1             3         8         1              3   \n",
       "2         3         3            10         5         1              9   \n",
       "3         3         3            10         4         1              8   \n",
       "4         5         3            10         3         1              7   \n",
       "\n",
       "   q13_mom_livewith  q13_f_livewith  q13_child_live  q13_grand_live  \\\n",
       "0                 1               1               1               0   \n",
       "1                 1               1               1               0   \n",
       "2                 1               1               1               0   \n",
       "3                 1               1               1               0   \n",
       "4                 1               1               1               0   \n",
       "\n",
       "      ...       asset_private_toilet  SES_lower  SES_medium  SES_higher  \\\n",
       "0     ...                          1          0           1           0   \n",
       "1     ...                          1          1           0           0   \n",
       "2     ...                          1          0           1           0   \n",
       "3     ...                          1          1           0           0   \n",
       "4     ...                          1          1           0           0   \n",
       "\n",
       "   wealth_groups  policyHT3  policyHT4  policyLH2  obese_m_012  obese_f_012  \n",
       "0              3          1          0          0        False            1  \n",
       "1              3          1          0          0            2            1  \n",
       "2              3          1          0          0            1        False  \n",
       "3              3          1          0          0            2        False  \n",
       "4              2          1          1          0        False            2  \n",
       "\n",
       "[5 rows x 377 columns]"
      ]
     },
     "execution_count": 864,
     "metadata": {},
     "output_type": "execute_result"
    }
   ],
   "source": [
    "#df3 = df2.drop(['obesity_student','obese_student','s_weight','s_height','s_waist_circumference','s_hip_circumference','Dep_Var_obesity_status_student'],axis=1)\n",
    "#print(df3.shape)\n",
    "X = pd.concat([df_clean.iloc[:,2:-16],df_clean.iloc[:,-2:]],axis=1) \n",
    "#drop the father mother and student hight and weight\n",
    "X.head()"
   ]
  },
  {
   "cell_type": "code",
   "execution_count": 865,
   "metadata": {},
   "outputs": [
    {
     "data": {
      "text/plain": [
       "(1967, 377)"
      ]
     },
     "execution_count": 865,
     "metadata": {},
     "output_type": "execute_result"
    }
   ],
   "source": [
    "X.shape"
   ]
  },
  {
   "cell_type": "code",
   "execution_count": 746,
   "metadata": {},
   "outputs": [],
   "source": [
    "X.index = range(len(X)) #reindex for concat later"
   ]
  },
  {
   "cell_type": "code",
   "execution_count": 866,
   "metadata": {},
   "outputs": [
    {
     "data": {
      "text/plain": [
       "Index(['q2_m_edu', 'q3_m_job', 'q4_m_jobtype', 'q8_f_edu', 'q9_f_job',\n",
       "       'q10_f_jobtype', 'q13_mom_livewith', 'q13_f_livewith', 'q13_child_live',\n",
       "       'q13_grand_live',\n",
       "       ...\n",
       "       'asset_private_toilet', 'SES_lower', 'SES_medium', 'SES_higher',\n",
       "       'wealth_groups', 'policyHT3', 'policyHT4', 'policyLH2', 'obese_m_012',\n",
       "       'obese_f_012'],\n",
       "      dtype='object', length=377)"
      ]
     },
     "execution_count": 866,
     "metadata": {},
     "output_type": "execute_result"
    }
   ],
   "source": [
    "y = df2.obese_s_01\n",
    "column = X.columns\n",
    "column"
   ]
  },
  {
   "cell_type": "code",
   "execution_count": 748,
   "metadata": {},
   "outputs": [
    {
     "name": "stderr",
     "output_type": "stream",
     "text": [
      "/Users/fanwenyu/anaconda3/lib/python3.6/site-packages/sklearn/preprocessing/data.py:625: DataConversionWarning: Data with input dtype int64, float64, object were all converted to float64 by StandardScaler.\n",
      "  return self.partial_fit(X, y)\n",
      "/Users/fanwenyu/anaconda3/lib/python3.6/site-packages/sklearn/base.py:462: DataConversionWarning: Data with input dtype int64, float64, object were all converted to float64 by StandardScaler.\n",
      "  return self.fit(X, **fit_params).transform(X)\n"
     ]
    }
   ],
   "source": [
    "scaler = StandardScaler()\n",
    "X_ss = scaler.fit_transform(X)\n"
   ]
  },
  {
   "cell_type": "code",
   "execution_count": 749,
   "metadata": {},
   "outputs": [],
   "source": [
    "#KMeans K=2,3,4,5\n",
    "from sklearn.cluster import KMeans \n",
    "from sklearn import metrics\n",
    "from sklearn.metrics import silhouette_score"
   ]
  },
  {
   "cell_type": "code",
   "execution_count": 750,
   "metadata": {},
   "outputs": [],
   "source": [
    "ks = [2,3,4,5]\n",
    "m_score = []\n",
    "s_score = []\n",
    "label = []\n",
    "for k in ks:\n",
    "    labels = KMeans(n_clusters=k, random_state=0).fit_predict(X_ss)\n",
    "    label.append(labels)\n",
    "    m = metrics.calinski_harabaz_score(X_ss, labels)\n",
    "    m_score.append(m)\n",
    "    s = silhouette_score(X_ss, labels)\n",
    "    s_score.append(s)"
   ]
  },
  {
   "cell_type": "code",
   "execution_count": 753,
   "metadata": {},
   "outputs": [
    {
     "data": {
      "text/plain": [
       "(1967, 4)"
      ]
     },
     "execution_count": 753,
     "metadata": {},
     "output_type": "execute_result"
    }
   ],
   "source": [
    "labels_kmeans = pd.DataFrame(label)\n",
    "labels_kmeans=labels_kmeans.T\n",
    "labels_kmeans.shape"
   ]
  },
  {
   "cell_type": "code",
   "execution_count": 754,
   "metadata": {},
   "outputs": [
    {
     "data": {
      "text/html": [
       "<div>\n",
       "<style scoped>\n",
       "    .dataframe tbody tr th:only-of-type {\n",
       "        vertical-align: middle;\n",
       "    }\n",
       "\n",
       "    .dataframe tbody tr th {\n",
       "        vertical-align: top;\n",
       "    }\n",
       "\n",
       "    .dataframe thead th {\n",
       "        text-align: right;\n",
       "    }\n",
       "</style>\n",
       "<table border=\"1\" class=\"dataframe\">\n",
       "  <thead>\n",
       "    <tr style=\"text-align: right;\">\n",
       "      <th></th>\n",
       "      <th>k2</th>\n",
       "      <th>k3</th>\n",
       "      <th>k4</th>\n",
       "      <th>k5</th>\n",
       "    </tr>\n",
       "  </thead>\n",
       "  <tbody>\n",
       "    <tr>\n",
       "      <th>0</th>\n",
       "      <td>0</td>\n",
       "      <td>1</td>\n",
       "      <td>2</td>\n",
       "      <td>3</td>\n",
       "    </tr>\n",
       "    <tr>\n",
       "      <th>1</th>\n",
       "      <td>1</td>\n",
       "      <td>2</td>\n",
       "      <td>1</td>\n",
       "      <td>0</td>\n",
       "    </tr>\n",
       "    <tr>\n",
       "      <th>2</th>\n",
       "      <td>0</td>\n",
       "      <td>0</td>\n",
       "      <td>3</td>\n",
       "      <td>3</td>\n",
       "    </tr>\n",
       "    <tr>\n",
       "      <th>3</th>\n",
       "      <td>1</td>\n",
       "      <td>2</td>\n",
       "      <td>0</td>\n",
       "      <td>0</td>\n",
       "    </tr>\n",
       "    <tr>\n",
       "      <th>4</th>\n",
       "      <td>0</td>\n",
       "      <td>0</td>\n",
       "      <td>2</td>\n",
       "      <td>2</td>\n",
       "    </tr>\n",
       "  </tbody>\n",
       "</table>\n",
       "</div>"
      ],
      "text/plain": [
       "   k2  k3  k4  k5\n",
       "0   0   1   2   3\n",
       "1   1   2   1   0\n",
       "2   0   0   3   3\n",
       "3   1   2   0   0\n",
       "4   0   0   2   2"
      ]
     },
     "execution_count": 754,
     "metadata": {},
     "output_type": "execute_result"
    }
   ],
   "source": [
    "labels_kmeans.columns=['k2','k3','k4','k5']\n",
    "labels_kmeans.head()"
   ]
  },
  {
   "cell_type": "code",
   "execution_count": 755,
   "metadata": {},
   "outputs": [],
   "source": [
    "import seaborn as sns\n",
    "from matplotlib import pyplot as plt"
   ]
  },
  {
   "cell_type": "code",
   "execution_count": 756,
   "metadata": {},
   "outputs": [
    {
     "data": {
      "image/png": "[encoded data removed]",
      "text/plain": [
       "<Figure size 432x288 with 2 Axes>"
      ]
     },
     "metadata": {},
     "output_type": "display_data"
    }
   ],
   "source": [
    "fig = plt.figure()  #from the scores k=2 is the best choice\n",
    "ax1 = fig.add_subplot(111)\n",
    "ax1.plot(ks, m_score)\n",
    "ax2 = ax1.twinx()\n",
    "ax2.plot(ks, s_score,'r')\n",
    "plt.show()"
   ]
  },
  {
   "cell_type": "code",
   "execution_count": 757,
   "metadata": {},
   "outputs": [
    {
     "data": {
      "text/plain": [
       "(1967, 381)"
      ]
     },
     "execution_count": 757,
     "metadata": {},
     "output_type": "execute_result"
    }
   ],
   "source": [
    "cluster=pd.concat([X,labels_kmeans],axis=1)  \n",
    "cluster.shape"
   ]
  },
  {
   "cell_type": "code",
   "execution_count": 758,
   "metadata": {},
   "outputs": [
    {
     "data": {
      "text/html": [
       "<div>\n",
       "<style scoped>\n",
       "    .dataframe tbody tr th:only-of-type {\n",
       "        vertical-align: middle;\n",
       "    }\n",
       "\n",
       "    .dataframe tbody tr th {\n",
       "        vertical-align: top;\n",
       "    }\n",
       "\n",
       "    .dataframe thead th {\n",
       "        text-align: right;\n",
       "    }\n",
       "</style>\n",
       "<table border=\"1\" class=\"dataframe\">\n",
       "  <thead>\n",
       "    <tr style=\"text-align: right;\">\n",
       "      <th></th>\n",
       "      <th>q2_m_edu</th>\n",
       "      <th>q3_m_job</th>\n",
       "      <th>q4_m_jobtype</th>\n",
       "      <th>q8_f_edu</th>\n",
       "      <th>q9_f_job</th>\n",
       "      <th>q10_f_jobtype</th>\n",
       "      <th>q13_mom_livewith</th>\n",
       "      <th>q13_f_livewith</th>\n",
       "      <th>q13_child_live</th>\n",
       "      <th>q13_grand_live</th>\n",
       "      <th>...</th>\n",
       "      <th>wealth_groups</th>\n",
       "      <th>policyHT3</th>\n",
       "      <th>policyHT4</th>\n",
       "      <th>policyLH2</th>\n",
       "      <th>obese_m_012</th>\n",
       "      <th>obese_f_012</th>\n",
       "      <th>k2</th>\n",
       "      <th>k3</th>\n",
       "      <th>k4</th>\n",
       "      <th>k5</th>\n",
       "    </tr>\n",
       "  </thead>\n",
       "  <tbody>\n",
       "    <tr>\n",
       "      <th>0</th>\n",
       "      <td>4</td>\n",
       "      <td>3</td>\n",
       "      <td>10</td>\n",
       "      <td>5</td>\n",
       "      <td>1</td>\n",
       "      <td>8</td>\n",
       "      <td>1</td>\n",
       "      <td>1</td>\n",
       "      <td>1</td>\n",
       "      <td>0</td>\n",
       "      <td>...</td>\n",
       "      <td>3</td>\n",
       "      <td>1</td>\n",
       "      <td>0</td>\n",
       "      <td>0</td>\n",
       "      <td>False</td>\n",
       "      <td>1</td>\n",
       "      <td>0</td>\n",
       "      <td>1</td>\n",
       "      <td>2</td>\n",
       "      <td>3</td>\n",
       "    </tr>\n",
       "    <tr>\n",
       "      <th>1</th>\n",
       "      <td>8</td>\n",
       "      <td>1</td>\n",
       "      <td>3</td>\n",
       "      <td>8</td>\n",
       "      <td>1</td>\n",
       "      <td>3</td>\n",
       "      <td>1</td>\n",
       "      <td>1</td>\n",
       "      <td>1</td>\n",
       "      <td>0</td>\n",
       "      <td>...</td>\n",
       "      <td>3</td>\n",
       "      <td>1</td>\n",
       "      <td>0</td>\n",
       "      <td>0</td>\n",
       "      <td>2</td>\n",
       "      <td>1</td>\n",
       "      <td>1</td>\n",
       "      <td>2</td>\n",
       "      <td>1</td>\n",
       "      <td>0</td>\n",
       "    </tr>\n",
       "    <tr>\n",
       "      <th>2</th>\n",
       "      <td>3</td>\n",
       "      <td>3</td>\n",
       "      <td>10</td>\n",
       "      <td>5</td>\n",
       "      <td>1</td>\n",
       "      <td>9</td>\n",
       "      <td>1</td>\n",
       "      <td>1</td>\n",
       "      <td>1</td>\n",
       "      <td>0</td>\n",
       "      <td>...</td>\n",
       "      <td>3</td>\n",
       "      <td>1</td>\n",
       "      <td>0</td>\n",
       "      <td>0</td>\n",
       "      <td>1</td>\n",
       "      <td>False</td>\n",
       "      <td>0</td>\n",
       "      <td>0</td>\n",
       "      <td>3</td>\n",
       "      <td>3</td>\n",
       "    </tr>\n",
       "    <tr>\n",
       "      <th>3</th>\n",
       "      <td>3</td>\n",
       "      <td>3</td>\n",
       "      <td>10</td>\n",
       "      <td>4</td>\n",
       "      <td>1</td>\n",
       "      <td>8</td>\n",
       "      <td>1</td>\n",
       "      <td>1</td>\n",
       "      <td>1</td>\n",
       "      <td>0</td>\n",
       "      <td>...</td>\n",
       "      <td>3</td>\n",
       "      <td>1</td>\n",
       "      <td>0</td>\n",
       "      <td>0</td>\n",
       "      <td>2</td>\n",
       "      <td>False</td>\n",
       "      <td>1</td>\n",
       "      <td>2</td>\n",
       "      <td>0</td>\n",
       "      <td>0</td>\n",
       "    </tr>\n",
       "    <tr>\n",
       "      <th>4</th>\n",
       "      <td>5</td>\n",
       "      <td>3</td>\n",
       "      <td>10</td>\n",
       "      <td>3</td>\n",
       "      <td>1</td>\n",
       "      <td>7</td>\n",
       "      <td>1</td>\n",
       "      <td>1</td>\n",
       "      <td>1</td>\n",
       "      <td>0</td>\n",
       "      <td>...</td>\n",
       "      <td>2</td>\n",
       "      <td>1</td>\n",
       "      <td>1</td>\n",
       "      <td>0</td>\n",
       "      <td>False</td>\n",
       "      <td>2</td>\n",
       "      <td>0</td>\n",
       "      <td>0</td>\n",
       "      <td>2</td>\n",
       "      <td>2</td>\n",
       "    </tr>\n",
       "  </tbody>\n",
       "</table>\n",
       "<p>5 rows × 381 columns</p>\n",
       "</div>"
      ],
      "text/plain": [
       "   q2_m_edu  q3_m_job  q4_m_jobtype  q8_f_edu  q9_f_job  q10_f_jobtype  \\\n",
       "0         4         3            10         5         1              8   \n",
       "1         8         1             3         8         1              3   \n",
       "2         3         3            10         5         1              9   \n",
       "3         3         3            10         4         1              8   \n",
       "4         5         3            10         3         1              7   \n",
       "\n",
       "   q13_mom_livewith  q13_f_livewith  q13_child_live  q13_grand_live ...  \\\n",
       "0                 1               1               1               0 ...   \n",
       "1                 1               1               1               0 ...   \n",
       "2                 1               1               1               0 ...   \n",
       "3                 1               1               1               0 ...   \n",
       "4                 1               1               1               0 ...   \n",
       "\n",
       "   wealth_groups  policyHT3  policyHT4  policyLH2  obese_m_012  obese_f_012  \\\n",
       "0              3          1          0          0        False            1   \n",
       "1              3          1          0          0            2            1   \n",
       "2              3          1          0          0            1        False   \n",
       "3              3          1          0          0            2        False   \n",
       "4              2          1          1          0        False            2   \n",
       "\n",
       "   k2  k3  k4  k5  \n",
       "0   0   1   2   3  \n",
       "1   1   2   1   0  \n",
       "2   0   0   3   3  \n",
       "3   1   2   0   0  \n",
       "4   0   0   2   2  \n",
       "\n",
       "[5 rows x 381 columns]"
      ]
     },
     "execution_count": 758,
     "metadata": {},
     "output_type": "execute_result"
    }
   ],
   "source": [
    "cluster.head()"
   ]
  },
  {
   "cell_type": "code",
   "execution_count": 642,
   "metadata": {},
   "outputs": [],
   "source": [
    "cluster.to_csv('kmeans_labeled_12_6.csv') #save for physical meaning discover"
   ]
  },
  {
   "cell_type": "code",
   "execution_count": 888,
   "metadata": {},
   "outputs": [
    {
     "data": {
      "text/plain": [
       "k2  obese_s_01\n",
       "0   0             970\n",
       "    1              88\n",
       "1   0             707\n",
       "    1             202\n",
       "dtype: int64"
      ]
     },
     "execution_count": 888,
     "metadata": {},
     "output_type": "execute_result"
    }
   ],
   "source": [
    "y_k2=pd.concat([y,labels_kmeans.k2],axis=1)\n",
    "group = y_k2.groupby(['k2','obese_s_01']).size()\n",
    "group"
   ]
  },
  {
   "cell_type": "code",
   "execution_count": 891,
   "metadata": {},
   "outputs": [
    {
     "data": {
      "text/plain": [
       "0.0831758034026465"
      ]
     },
     "execution_count": 891,
     "metadata": {},
     "output_type": "execute_result"
    }
   ],
   "source": [
    "88/(970+88) #k2=0中肥胖比例"
   ]
  },
  {
   "cell_type": "code",
   "execution_count": 892,
   "metadata": {},
   "outputs": [
    {
     "data": {
      "text/plain": [
       "0.2222222222222222"
      ]
     },
     "execution_count": 892,
     "metadata": {},
     "output_type": "execute_result"
    }
   ],
   "source": [
    "202/(707+202)#k2=1中肥胖比例"
   ]
  },
  {
   "cell_type": "code",
   "execution_count": null,
   "metadata": {},
   "outputs": [],
   "source": []
  },
  {
   "cell_type": "code",
   "execution_count": null,
   "metadata": {},
   "outputs": [],
   "source": []
  },
  {
   "cell_type": "code",
   "execution_count": 730,
   "metadata": {},
   "outputs": [
    {
     "data": {
      "text/plain": [
       "obese_s_01  k3\n",
       "0           0     472\n",
       "            1     685\n",
       "            2     520\n",
       "1           0     116\n",
       "            1      43\n",
       "            2     131\n",
       "dtype: int64"
      ]
     },
     "execution_count": 730,
     "metadata": {},
     "output_type": "execute_result"
    }
   ],
   "source": [
    "y_k3=pd.concat([y,labels_kmeans.k3],axis=1)  \n",
    "group = y_k3.groupby(['obese_s_01','k3']).size()\n",
    "group"
   ]
  },
  {
   "cell_type": "code",
   "execution_count": 736,
   "metadata": {},
   "outputs": [
    {
     "data": {
      "text/plain": [
       "obese_s_01  k4\n",
       "0           0     492\n",
       "            1     101\n",
       "            2     681\n",
       "            3     403\n",
       "1           0      92\n",
       "            1      29\n",
       "            2      46\n",
       "            3     123\n",
       "dtype: int64"
      ]
     },
     "execution_count": 736,
     "metadata": {},
     "output_type": "execute_result"
    }
   ],
   "source": [
    "y_k4=pd.concat([y,labels_kmeans.k4],axis=1)  \n",
    "group = y_k4.groupby(['obese_s_01','k4']).size()\n",
    "group"
   ]
  },
  {
   "cell_type": "code",
   "execution_count": 737,
   "metadata": {},
   "outputs": [
    {
     "data": {
      "text/plain": [
       "obese_s_01  k5\n",
       "0           0      88\n",
       "            1     377\n",
       "            2     269\n",
       "            3     540\n",
       "            4     403\n",
       "1           0      31\n",
       "            1     102\n",
       "            2      44\n",
       "            3      37\n",
       "            4      76\n",
       "dtype: int64"
      ]
     },
     "execution_count": 737,
     "metadata": {},
     "output_type": "execute_result"
    }
   ],
   "source": [
    "y_k5=pd.concat([y,labels_kmeans.k5],axis=1)  \n",
    "group = y_k5.groupby(['obese_s_01','k5']).size()\n",
    "group"
   ]
  },
  {
   "cell_type": "code",
   "execution_count": 727,
   "metadata": {},
   "outputs": [
    {
     "data": {
      "text/plain": [
       "k3\n",
       "0    472\n",
       "1    685\n",
       "2    520\n",
       "dtype: int64"
      ]
     },
     "execution_count": 727,
     "metadata": {},
     "output_type": "execute_result"
    }
   ],
   "source": [
    "group[0]"
   ]
  },
  {
   "cell_type": "code",
   "execution_count": 733,
   "metadata": {},
   "outputs": [
    {
     "data": {
      "text/html": [
       "<div>\n",
       "<style scoped>\n",
       "    .dataframe tbody tr th:only-of-type {\n",
       "        vertical-align: middle;\n",
       "    }\n",
       "\n",
       "    .dataframe tbody tr th {\n",
       "        vertical-align: top;\n",
       "    }\n",
       "\n",
       "    .dataframe thead th {\n",
       "        text-align: right;\n",
       "    }\n",
       "</style>\n",
       "<table border=\"1\" class=\"dataframe\">\n",
       "  <thead>\n",
       "    <tr style=\"text-align: right;\">\n",
       "      <th></th>\n",
       "      <th>obese_s_01</th>\n",
       "      <th>k2</th>\n",
       "      <th>k3</th>\n",
       "      <th>k4</th>\n",
       "      <th>k5</th>\n",
       "    </tr>\n",
       "  </thead>\n",
       "  <tbody>\n",
       "    <tr>\n",
       "      <th>0</th>\n",
       "      <td>1</td>\n",
       "      <td>0</td>\n",
       "      <td>1</td>\n",
       "      <td>2</td>\n",
       "      <td>3</td>\n",
       "    </tr>\n",
       "    <tr>\n",
       "      <th>1</th>\n",
       "      <td>0</td>\n",
       "      <td>1</td>\n",
       "      <td>2</td>\n",
       "      <td>1</td>\n",
       "      <td>0</td>\n",
       "    </tr>\n",
       "    <tr>\n",
       "      <th>2</th>\n",
       "      <td>0</td>\n",
       "      <td>0</td>\n",
       "      <td>0</td>\n",
       "      <td>3</td>\n",
       "      <td>3</td>\n",
       "    </tr>\n",
       "    <tr>\n",
       "      <th>3</th>\n",
       "      <td>1</td>\n",
       "      <td>1</td>\n",
       "      <td>2</td>\n",
       "      <td>0</td>\n",
       "      <td>0</td>\n",
       "    </tr>\n",
       "    <tr>\n",
       "      <th>4</th>\n",
       "      <td>0</td>\n",
       "      <td>0</td>\n",
       "      <td>0</td>\n",
       "      <td>2</td>\n",
       "      <td>2</td>\n",
       "    </tr>\n",
       "  </tbody>\n",
       "</table>\n",
       "</div>"
      ],
      "text/plain": [
       "   obese_s_01  k2  k3  k4  k5\n",
       "0           1   0   1   2   3\n",
       "1           0   1   2   1   0\n",
       "2           0   0   0   3   3\n",
       "3           1   1   2   0   0\n",
       "4           0   0   0   2   2"
      ]
     },
     "execution_count": 733,
     "metadata": {},
     "output_type": "execute_result"
    }
   ],
   "source": [
    "y_k=pd.concat([y,labels_kmeans],axis=1)\n",
    "y_k.head()"
   ]
  },
  {
   "cell_type": "code",
   "execution_count": 734,
   "metadata": {},
   "outputs": [],
   "source": [
    "from sklearn.feature_selection import chi2"
   ]
  },
  {
   "cell_type": "code",
   "execution_count": 839,
   "metadata": {},
   "outputs": [
    {
     "data": {
      "text/plain": [
       "(array([40.45048881,  0.12785539,  1.42733615, 15.30086869]),\n",
       " array([2.01661991e-10, 7.20666086e-01, 2.32199673e-01, 9.16743440e-05]))"
      ]
     },
     "execution_count": 839,
     "metadata": {},
     "output_type": "execute_result"
    }
   ],
   "source": [
    "chi2(labels_kmeans, y)"
   ]
  },
  {
   "cell_type": "code",
   "execution_count": 840,
   "metadata": {},
   "outputs": [],
   "source": [
    "k2 = labels_kmeans.k2"
   ]
  },
  {
   "cell_type": "code",
   "execution_count": 841,
   "metadata": {},
   "outputs": [
    {
     "data": {
      "text/plain": [
       "pandas.core.frame.DataFrame"
      ]
     },
     "execution_count": 841,
     "metadata": {},
     "output_type": "execute_result"
    }
   ],
   "source": [
    "type(labels_kmeans)"
   ]
  },
  {
   "cell_type": "code",
   "execution_count": 842,
   "metadata": {},
   "outputs": [
    {
     "data": {
      "text/plain": [
       "(1967, 4)"
      ]
     },
     "execution_count": 842,
     "metadata": {},
     "output_type": "execute_result"
    }
   ],
   "source": [
    "labels_kmeans.shape"
   ]
  },
  {
   "cell_type": "code",
   "execution_count": 894,
   "metadata": {},
   "outputs": [
    {
     "data": {
      "text/html": [
       "<div>\n",
       "<style scoped>\n",
       "    .dataframe tbody tr th:only-of-type {\n",
       "        vertical-align: middle;\n",
       "    }\n",
       "\n",
       "    .dataframe tbody tr th {\n",
       "        vertical-align: top;\n",
       "    }\n",
       "\n",
       "    .dataframe thead th {\n",
       "        text-align: right;\n",
       "    }\n",
       "</style>\n",
       "<table border=\"1\" class=\"dataframe\">\n",
       "  <thead>\n",
       "    <tr style=\"text-align: right;\">\n",
       "      <th></th>\n",
       "      <th>s_q8_5</th>\n",
       "      <th>s_q9_1</th>\n",
       "      <th>s_q9_2</th>\n",
       "      <th>s_q9_3</th>\n",
       "      <th>s_q9_4</th>\n",
       "      <th>s_q9_5</th>\n",
       "      <th>s_q9_6</th>\n",
       "      <th>s_q9_7</th>\n",
       "      <th>s_q9_8</th>\n",
       "      <th>s_q9_9</th>\n",
       "      <th>s_q9_10</th>\n",
       "      <th>s_q9_11</th>\n",
       "      <th>s_q10</th>\n",
       "    </tr>\n",
       "  </thead>\n",
       "  <tbody>\n",
       "    <tr>\n",
       "      <th>0</th>\n",
       "      <td>5</td>\n",
       "      <td>1</td>\n",
       "      <td>2</td>\n",
       "      <td>1</td>\n",
       "      <td>1</td>\n",
       "      <td>1</td>\n",
       "      <td>1</td>\n",
       "      <td>1</td>\n",
       "      <td>1</td>\n",
       "      <td>1</td>\n",
       "      <td>1</td>\n",
       "      <td>1</td>\n",
       "      <td>2</td>\n",
       "    </tr>\n",
       "    <tr>\n",
       "      <th>1</th>\n",
       "      <td>4</td>\n",
       "      <td>1</td>\n",
       "      <td>1</td>\n",
       "      <td>2</td>\n",
       "      <td>1</td>\n",
       "      <td>1</td>\n",
       "      <td>1</td>\n",
       "      <td>2</td>\n",
       "      <td>1</td>\n",
       "      <td>1</td>\n",
       "      <td>2</td>\n",
       "      <td>1</td>\n",
       "      <td>2</td>\n",
       "    </tr>\n",
       "    <tr>\n",
       "      <th>2</th>\n",
       "      <td>5</td>\n",
       "      <td>1</td>\n",
       "      <td>1</td>\n",
       "      <td>1</td>\n",
       "      <td>1</td>\n",
       "      <td>1</td>\n",
       "      <td>1</td>\n",
       "      <td>1</td>\n",
       "      <td>1</td>\n",
       "      <td>1</td>\n",
       "      <td>1</td>\n",
       "      <td>1</td>\n",
       "      <td>1</td>\n",
       "    </tr>\n",
       "    <tr>\n",
       "      <th>3</th>\n",
       "      <td>3</td>\n",
       "      <td>1</td>\n",
       "      <td>1</td>\n",
       "      <td>1</td>\n",
       "      <td>1</td>\n",
       "      <td>1</td>\n",
       "      <td>2</td>\n",
       "      <td>3</td>\n",
       "      <td>1</td>\n",
       "      <td>1</td>\n",
       "      <td>2</td>\n",
       "      <td>1</td>\n",
       "      <td>4</td>\n",
       "    </tr>\n",
       "    <tr>\n",
       "      <th>4</th>\n",
       "      <td>4</td>\n",
       "      <td>1</td>\n",
       "      <td>1</td>\n",
       "      <td>1</td>\n",
       "      <td>1</td>\n",
       "      <td>2</td>\n",
       "      <td>2</td>\n",
       "      <td>1</td>\n",
       "      <td>2</td>\n",
       "      <td>1</td>\n",
       "      <td>1</td>\n",
       "      <td>1</td>\n",
       "      <td>2</td>\n",
       "    </tr>\n",
       "  </tbody>\n",
       "</table>\n",
       "</div>"
      ],
      "text/plain": [
       "   s_q8_5  s_q9_1  s_q9_2  s_q9_3  s_q9_4  s_q9_5  s_q9_6  s_q9_7  s_q9_8  \\\n",
       "0       5       1       2       1       1       1       1       1       1   \n",
       "1       4       1       1       2       1       1       1       2       1   \n",
       "2       5       1       1       1       1       1       1       1       1   \n",
       "3       3       1       1       1       1       1       2       3       1   \n",
       "4       4       1       1       1       1       2       2       1       2   \n",
       "\n",
       "   s_q9_9  s_q9_10  s_q9_11  s_q10  \n",
       "0       1        1        1      2  \n",
       "1       1        2        1      2  \n",
       "2       1        1        1      1  \n",
       "3       1        2        1      4  \n",
       "4       1        1        1      2  "
      ]
     },
     "execution_count": 894,
     "metadata": {},
     "output_type": "execute_result"
    }
   ],
   "source": [
    "X.iloc[:,218:231].head() # some eating habits"
   ]
  },
  {
   "cell_type": "code",
   "execution_count": 893,
   "metadata": {},
   "outputs": [
    {
     "data": {
      "text/plain": [
       "(array([ 8.24025216, 10.88399715, 14.2894456 ,  8.67919473, 10.72794698,\n",
       "        20.93183207, 39.38099574, 33.25087027, 25.26758454, 15.78449501,\n",
       "        37.94615923, 37.75485527,  4.60121649]),\n",
       " array([4.09714399e-03, 9.69986856e-04, 1.56741267e-04, 3.21863171e-03,\n",
       "        1.05529466e-03, 4.75920010e-06, 3.48673955e-10, 8.10034949e-09,\n",
       "        4.99025247e-07, 7.09818272e-05, 7.27240957e-10, 8.02168174e-10,\n",
       "        3.19492783e-02]))"
      ]
     },
     "execution_count": 893,
     "metadata": {},
     "output_type": "execute_result"
    }
   ],
   "source": [
    "chi2(X.iloc[:,218:231],y_k.k2)"
   ]
  },
  {
   "cell_type": "code",
   "execution_count": 880,
   "metadata": {},
   "outputs": [
    {
     "data": {
      "text/plain": [
       "Index(['s_q9_5', 's_q9_6', 's_q9_7', 's_q9_8', 's_q9_9', 's_q9_10', 's_q9_11'], dtype='object')"
      ]
     },
     "execution_count": 880,
     "metadata": {},
     "output_type": "execute_result"
    }
   ],
   "source": [
    "column[223:230]"
   ]
  },
  {
   "cell_type": "code",
   "execution_count": 810,
   "metadata": {},
   "outputs": [
    {
     "data": {
      "text/plain": [
       "array([[0],\n",
       "       [1],\n",
       "       [0],\n",
       "       ...,\n",
       "       [0],\n",
       "       [0],\n",
       "       [0]])"
      ]
     },
     "execution_count": 810,
     "metadata": {},
     "output_type": "execute_result"
    }
   ],
   "source": [
    "labels"
   ]
  },
  {
   "cell_type": "code",
   "execution_count": 809,
   "metadata": {},
   "outputs": [],
   "source": [
    "labels = np.array(labels_kmeans.k2).reshape(-1, 1)"
   ]
  },
  {
   "cell_type": "code",
   "execution_count": 761,
   "metadata": {},
   "outputs": [
    {
     "data": {
      "text/html": [
       "<div>\n",
       "<style scoped>\n",
       "    .dataframe tbody tr th:only-of-type {\n",
       "        vertical-align: middle;\n",
       "    }\n",
       "\n",
       "    .dataframe tbody tr th {\n",
       "        vertical-align: top;\n",
       "    }\n",
       "\n",
       "    .dataframe thead th {\n",
       "        text-align: right;\n",
       "    }\n",
       "</style>\n",
       "<table border=\"1\" class=\"dataframe\">\n",
       "  <thead>\n",
       "    <tr style=\"text-align: right;\">\n",
       "      <th></th>\n",
       "      <th>0</th>\n",
       "      <th>1</th>\n",
       "      <th>2</th>\n",
       "    </tr>\n",
       "  </thead>\n",
       "  <tbody>\n",
       "    <tr>\n",
       "      <th>0</th>\n",
       "      <td>0</td>\n",
       "      <td>1</td>\n",
       "      <td>0</td>\n",
       "    </tr>\n",
       "    <tr>\n",
       "      <th>1</th>\n",
       "      <td>0</td>\n",
       "      <td>0</td>\n",
       "      <td>1</td>\n",
       "    </tr>\n",
       "    <tr>\n",
       "      <th>2</th>\n",
       "      <td>1</td>\n",
       "      <td>0</td>\n",
       "      <td>0</td>\n",
       "    </tr>\n",
       "    <tr>\n",
       "      <th>3</th>\n",
       "      <td>0</td>\n",
       "      <td>0</td>\n",
       "      <td>1</td>\n",
       "    </tr>\n",
       "    <tr>\n",
       "      <th>4</th>\n",
       "      <td>1</td>\n",
       "      <td>0</td>\n",
       "      <td>0</td>\n",
       "    </tr>\n",
       "  </tbody>\n",
       "</table>\n",
       "</div>"
      ],
      "text/plain": [
       "   0  1  2\n",
       "0  0  1  0\n",
       "1  0  0  1\n",
       "2  1  0  0\n",
       "3  0  0  1\n",
       "4  1  0  0"
      ]
     },
     "execution_count": 761,
     "metadata": {},
     "output_type": "execute_result"
    }
   ],
   "source": [
    "dummied_labels_3 = pd.get_dummies(labels_kmeans.k3)\n",
    "dummied_labels.head()"
   ]
  },
  {
   "cell_type": "code",
   "execution_count": 762,
   "metadata": {},
   "outputs": [],
   "source": [
    "from sklearn.linear_model import LogisticRegression\n",
    "from sklearn.metrics import accuracy_score\n",
    "y_c = np.array(y).reshape(-1, 1)"
   ]
  },
  {
   "cell_type": "code",
   "execution_count": 772,
   "metadata": {},
   "outputs": [
    {
     "name": "stderr",
     "output_type": "stream",
     "text": [
      "/Users/fanwenyu/anaconda3/lib/python3.6/site-packages/sklearn/utils/validation.py:761: DataConversionWarning: A column-vector y was passed when a 1d array was expected. Please change the shape of y to (n_samples, ), for example using ravel().\n",
      "  y = column_or_1d(y, warn=True)\n"
     ]
    }
   ],
   "source": [
    "#k=2\n",
    "labels = np.array(labels_kmeans.k2).reshape(-1, 1)\n",
    "clf = LogisticRegression(random_state=0, solver='lbfgs', multi_class='multinomial',class_weight='balanced').fit(labels, y_c)\n",
    "y_pred = clf.predict(labels)"
   ]
  },
  {
   "cell_type": "code",
   "execution_count": 773,
   "metadata": {},
   "outputs": [
    {
     "data": {
      "text/plain": [
       "0.595831215048297"
      ]
     },
     "execution_count": 773,
     "metadata": {},
     "output_type": "execute_result"
    }
   ],
   "source": [
    "clf.score(labels, y_c)"
   ]
  },
  {
   "cell_type": "code",
   "execution_count": 768,
   "metadata": {},
   "outputs": [],
   "source": [
    "from sklearn.metrics import confusion_matrix\n",
    "from sklearn.metrics import classification_report"
   ]
  },
  {
   "cell_type": "code",
   "execution_count": 769,
   "metadata": {},
   "outputs": [
    {
     "name": "stdout",
     "output_type": "stream",
     "text": [
      "[[970  88]\n",
      " [707 202]]\n",
      "-----------------------------------------------------------\n",
      "              precision    recall  f1-score   support\n",
      "\n",
      "           0       0.58      0.92      0.71      1058\n",
      "           1       0.70      0.22      0.34       909\n",
      "\n",
      "   micro avg       0.60      0.60      0.60      1967\n",
      "   macro avg       0.64      0.57      0.52      1967\n",
      "weighted avg       0.63      0.60      0.54      1967\n",
      "\n"
     ]
    }
   ],
   "source": [
    "print(confusion_matrix(y_pred, y_c))\n",
    "print('-----------------------------------------------------------')\n",
    "print(classification_report(y_pred, y_c))"
   ]
  },
  {
   "cell_type": "code",
   "execution_count": 775,
   "metadata": {},
   "outputs": [
    {
     "data": {
      "text/plain": [
       "0.47381799694966953"
      ]
     },
     "execution_count": 775,
     "metadata": {},
     "output_type": "execute_result"
    }
   ],
   "source": [
    "#k=3\n",
    "dummied_labels = pd.get_dummies(labels_kmeans.k3)\n",
    "#labels = np.array(labels_kmeans.k2).reshape(-1, 1)\n",
    "clf = LogisticRegression(random_state=0, solver='lbfgs', multi_class='multinomial',class_weight='balanced').fit(dummied_labels, y)\n",
    "y_pred = clf.predict(dummied_labels)\n",
    "clf.score(dummied_labels, y)"
   ]
  },
  {
   "cell_type": "code",
   "execution_count": 776,
   "metadata": {},
   "outputs": [
    {
     "name": "stdout",
     "output_type": "stream",
     "text": [
      "[[685  43]\n",
      " [992 247]]\n",
      "-----------------------------------------------------------\n",
      "              precision    recall  f1-score   support\n",
      "\n",
      "           0       0.41      0.94      0.57       728\n",
      "           1       0.85      0.20      0.32      1239\n",
      "\n",
      "   micro avg       0.47      0.47      0.47      1967\n",
      "   macro avg       0.63      0.57      0.45      1967\n",
      "weighted avg       0.69      0.47      0.41      1967\n",
      "\n"
     ]
    }
   ],
   "source": [
    "print(confusion_matrix(y_pred, y))\n",
    "print('-----------------------------------------------------------')\n",
    "print(classification_report(y_pred, y))"
   ]
  },
  {
   "cell_type": "code",
   "execution_count": 777,
   "metadata": {},
   "outputs": [
    {
     "data": {
      "text/plain": [
       "0.4702592780884596"
      ]
     },
     "execution_count": 777,
     "metadata": {},
     "output_type": "execute_result"
    }
   ],
   "source": [
    "#k=4\n",
    "dummied_labels = pd.get_dummies(labels_kmeans.k4)\n",
    "#labels = np.array(labels_kmeans.k2).reshape(-1, 1)\n",
    "clf = LogisticRegression(random_state=0, solver='lbfgs', multi_class='multinomial',class_weight='balanced').fit(dummied_labels, y)\n",
    "y_pred = clf.predict(dummied_labels)\n",
    "clf.score(dummied_labels, y)"
   ]
  },
  {
   "cell_type": "code",
   "execution_count": 778,
   "metadata": {},
   "outputs": [
    {
     "name": "stdout",
     "output_type": "stream",
     "text": [
      "[[681  46]\n",
      " [996 244]]\n",
      "-----------------------------------------------------------\n",
      "              precision    recall  f1-score   support\n",
      "\n",
      "           0       0.41      0.94      0.57       727\n",
      "           1       0.84      0.20      0.32      1240\n",
      "\n",
      "   micro avg       0.47      0.47      0.47      1967\n",
      "   macro avg       0.62      0.57      0.44      1967\n",
      "weighted avg       0.68      0.47      0.41      1967\n",
      "\n"
     ]
    }
   ],
   "source": [
    "print(confusion_matrix(y_pred, y))\n",
    "print('-----------------------------------------------------------')\n",
    "print(classification_report(y_pred, y))"
   ]
  },
  {
   "cell_type": "code",
   "execution_count": 779,
   "metadata": {},
   "outputs": [
    {
     "data": {
      "text/plain": [
       "0.5175394001016776"
      ]
     },
     "execution_count": 779,
     "metadata": {},
     "output_type": "execute_result"
    }
   ],
   "source": [
    "#k=5\n",
    "dummied_labels = pd.get_dummies(labels_kmeans.k5)\n",
    "#labels = np.array(labels_kmeans.k2).reshape(-1, 1)\n",
    "clf = LogisticRegression(random_state=0, solver='lbfgs', multi_class='multinomial',class_weight='balanced').fit(dummied_labels, y)\n",
    "y_pred = clf.predict(dummied_labels)\n",
    "clf.score(dummied_labels, y)"
   ]
  },
  {
   "cell_type": "code",
   "execution_count": 780,
   "metadata": {},
   "outputs": [
    {
     "name": "stdout",
     "output_type": "stream",
     "text": [
      "[[809  81]\n",
      " [868 209]]\n",
      "-----------------------------------------------------------\n",
      "              precision    recall  f1-score   support\n",
      "\n",
      "           0       0.48      0.91      0.63       890\n",
      "           1       0.72      0.19      0.31      1077\n",
      "\n",
      "   micro avg       0.52      0.52      0.52      1967\n",
      "   macro avg       0.60      0.55      0.47      1967\n",
      "weighted avg       0.61      0.52      0.45      1967\n",
      "\n"
     ]
    }
   ],
   "source": [
    "print(confusion_matrix(y_pred, y))\n",
    "print('-----------------------------------------------------------')\n",
    "print(classification_report(y_pred, y))"
   ]
  },
  {
   "cell_type": "code",
   "execution_count": null,
   "metadata": {},
   "outputs": [],
   "source": []
  },
  {
   "cell_type": "code",
   "execution_count": 608,
   "metadata": {},
   "outputs": [],
   "source": [
    "#df_clean.iloc[kmeans.labels_==1]\n",
    "#How to find the physical meaning of clusters?"
   ]
  },
  {
   "cell_type": "code",
   "execution_count": 255,
   "metadata": {},
   "outputs": [],
   "source": [
    "# Density-based Clustering DBSCAN\n",
    "from sklearn.cluster import DBSCAN"
   ]
  },
  {
   "cell_type": "code",
   "execution_count": 323,
   "metadata": {},
   "outputs": [],
   "source": [
    "clustering = DBSCAN(eps=30, min_samples=28, algorithm= 'auto').fit(X) #should fit X_ss"
   ]
  },
  {
   "cell_type": "code",
   "execution_count": 324,
   "metadata": {},
   "outputs": [
    {
     "data": {
      "text/plain": [
       "array([ 0, -1, -1, ...,  1,  0,  0])"
      ]
     },
     "execution_count": 324,
     "metadata": {},
     "output_type": "execute_result"
    }
   ],
   "source": [
    "clustering.labels_"
   ]
  },
  {
   "cell_type": "code",
   "execution_count": 337,
   "metadata": {},
   "outputs": [
    {
     "data": {
      "text/plain": [
       " 1    922\n",
       " 0    548\n",
       "-1    496\n",
       "dtype: int64"
      ]
     },
     "execution_count": 337,
     "metadata": {},
     "output_type": "execute_result"
    }
   ],
   "source": [
    "pd.value_counts(clustering.labels_)"
   ]
  },
  {
   "cell_type": "code",
   "execution_count": 319,
   "metadata": {},
   "outputs": [
    {
     "name": "stdout",
     "output_type": "stream",
     "text": [
      "15 10\n",
      "-1    1966\n",
      "dtype: int64\n",
      "15 13\n",
      "-1    1966\n",
      "dtype: int64\n",
      "18 10\n",
      "-1    1966\n",
      "dtype: int64\n",
      "18 13\n",
      "-1    1966\n",
      "dtype: int64\n",
      "21 10\n",
      "-1    994\n",
      " 0    972\n",
      "dtype: int64\n",
      "21 13\n",
      "-1    998\n",
      " 0    968\n",
      "dtype: int64\n",
      "24 10\n",
      " 0    1810\n",
      "-1     156\n",
      "dtype: int64\n",
      "24 13\n",
      " 0    1808\n",
      "-1     158\n",
      "dtype: int64\n",
      "27 10\n",
      " 0    1958\n",
      "-1       8\n",
      "dtype: int64\n",
      "27 13\n",
      " 0    1958\n",
      "-1       8\n",
      "dtype: int64\n",
      "30 10\n",
      " 0    1965\n",
      "-1       1\n",
      "dtype: int64\n",
      "30 13\n",
      " 0    1965\n",
      "-1       1\n",
      "dtype: int64\n",
      "33 10\n",
      "0    1966\n",
      "dtype: int64\n",
      "33 13\n",
      "0    1966\n",
      "dtype: int64\n",
      "36 10\n",
      "0    1966\n",
      "dtype: int64\n",
      "36 13\n",
      "0    1966\n",
      "dtype: int64\n",
      "39 10\n",
      "0    1966\n",
      "dtype: int64\n",
      "39 13\n",
      "0    1966\n",
      "dtype: int64\n"
     ]
    }
   ],
   "source": [
    "# It's hard to find the suitable parameters of DBSCAN which min -1 label \n",
    "#and clustering data into two or more clusters\n",
    "for eps in range(15,40,3):\n",
    "    for mi in range(10,15,3):\n",
    "        clustering = DBSCAN(eps=eps, min_samples=mi, algorithm= 'auto').fit(X_ss)\n",
    "        print(eps , mi)\n",
    "        print(pd.value_counts(clustering.labels_))"
   ]
  },
  {
   "cell_type": "code",
   "execution_count": null,
   "metadata": {},
   "outputs": [],
   "source": []
  },
  {
   "cell_type": "code",
   "execution_count": null,
   "metadata": {},
   "outputs": [],
   "source": []
  },
  {
   "cell_type": "code",
   "execution_count": null,
   "metadata": {},
   "outputs": [],
   "source": []
  },
  {
   "cell_type": "code",
   "execution_count": 164,
   "metadata": {},
   "outputs": [
    {
     "data": {
      "text/plain": [
       " 1    922\n",
       " 0    548\n",
       "-1    496\n",
       "dtype: int64"
      ]
     },
     "execution_count": 164,
     "metadata": {},
     "output_type": "execute_result"
    }
   ],
   "source": [
    "pd.value_counts(clustering.labels_) #eps=30, min_samples=28"
   ]
  },
  {
   "cell_type": "code",
   "execution_count": 92,
   "metadata": {},
   "outputs": [
    {
     "data": {
      "text/plain": [
       " 0    1915\n",
       "-1      51\n",
       "dtype: int64"
      ]
     },
     "execution_count": 92,
     "metadata": {},
     "output_type": "execute_result"
    }
   ],
   "source": [
    "pd.value_counts(clustering.labels_) #eps=33, min_samples=15"
   ]
  },
  {
   "cell_type": "code",
   "execution_count": 691,
   "metadata": {},
   "outputs": [
    {
     "name": "stderr",
     "output_type": "stream",
     "text": [
      "/Users/fanwenyu/anaconda3/lib/python3.6/site-packages/sklearn/utils/validation.py:761: DataConversionWarning: A column-vector y was passed when a 1d array was expected. Please change the shape of y to (n_samples, ), for example using ravel().\n",
      "  y = column_or_1d(y, warn=True)\n"
     ]
    },
    {
     "data": {
      "text/plain": [
       "0.4875444839857651"
      ]
     },
     "execution_count": 691,
     "metadata": {},
     "output_type": "execute_result"
    }
   ],
   "source": [
    "label = clustering.labels_.reshape(-1, 1)\n",
    "y_c = np.array(y).reshape(-1, 1)\n",
    "clf = LogisticRegression(solver='lbfgs', multi_class='multinomial',class_weight='balanced').fit(label, y_c)\n",
    "clf.score(labels, y_c)"
   ]
  },
  {
   "cell_type": "code",
   "execution_count": 692,
   "metadata": {},
   "outputs": [
    {
     "name": "stdout",
     "output_type": "stream",
     "text": [
      "[[892 264 106]\n",
      " [366 155 184]\n",
      " [  0   0   0]]\n",
      "-----------------------------------------------------------\n",
      "              precision    recall  f1-score   support\n",
      "\n",
      "           0       0.71      0.71      0.71      1262\n",
      "           1       0.37      0.22      0.28       705\n",
      "           2       0.00      0.00      0.00         0\n",
      "\n",
      "   micro avg       0.53      0.53      0.53      1967\n",
      "   macro avg       0.36      0.31      0.33      1967\n",
      "weighted avg       0.59      0.53      0.55      1967\n",
      "\n"
     ]
    },
    {
     "name": "stderr",
     "output_type": "stream",
     "text": [
      "/Users/fanwenyu/anaconda3/lib/python3.6/site-packages/sklearn/metrics/classification.py:1145: UndefinedMetricWarning: Recall and F-score are ill-defined and being set to 0.0 in labels with no true samples.\n",
      "  'recall', 'true', average, warn_for)\n",
      "/Users/fanwenyu/anaconda3/lib/python3.6/site-packages/sklearn/metrics/classification.py:1145: UndefinedMetricWarning: Recall and F-score are ill-defined and being set to 0.0 in labels with no true samples.\n",
      "  'recall', 'true', average, warn_for)\n",
      "/Users/fanwenyu/anaconda3/lib/python3.6/site-packages/sklearn/metrics/classification.py:1145: UndefinedMetricWarning: Recall and F-score are ill-defined and being set to 0.0 in labels with no true samples.\n",
      "  'recall', 'true', average, warn_for)\n"
     ]
    }
   ],
   "source": [
    "print(confusion_matrix(label, y_c))\n",
    "print('-----------------------------------------------------------')\n",
    "print(classification_report(label, y_c))"
   ]
  },
  {
   "cell_type": "code",
   "execution_count": 611,
   "metadata": {},
   "outputs": [],
   "source": [
    "#Gaussian mixtures Distribution-based Clustering\n",
    "from sklearn.mixture import GaussianMixture\n",
    "clf = GaussianMixture(n_components=2, covariance_type='full',random_state=42)\n",
    "clf.fit(X_ss)\n",
    "y_p = clf.predict(X_ss)"
   ]
  },
  {
   "cell_type": "code",
   "execution_count": 612,
   "metadata": {},
   "outputs": [
    {
     "data": {
      "text/plain": [
       "1    1088\n",
       "0     879\n",
       "dtype: int64"
      ]
     },
     "execution_count": 612,
     "metadata": {},
     "output_type": "execute_result"
    }
   ],
   "source": [
    "pd.value_counts(y_p)"
   ]
  },
  {
   "cell_type": "code",
   "execution_count": 613,
   "metadata": {},
   "outputs": [],
   "source": [
    "y_p=np.array(y_p).reshape(-1, 1)"
   ]
  },
  {
   "cell_type": "code",
   "execution_count": 614,
   "metadata": {},
   "outputs": [
    {
     "data": {
      "text/plain": [
       "0.41331977630910016"
      ]
     },
     "execution_count": 614,
     "metadata": {},
     "output_type": "execute_result"
    }
   ],
   "source": [
    "clf = LogisticRegression(random_state=0, solver='lbfgs', multi_class='multinomial',class_weight='balanced').fit(y_p, y)\n",
    "y_pred = clf.predict(y_p)\n",
    "y_pred=np.array(y_pred).reshape(-1, 1)\n",
    "clf.score(y_pred, y)"
   ]
  },
  {
   "cell_type": "code",
   "execution_count": 615,
   "metadata": {},
   "outputs": [
    {
     "name": "stdout",
     "output_type": "stream",
     "text": [
      "[[976 112]\n",
      " [701 178]]\n",
      "-----------------------------------------------------------\n",
      "              precision    recall  f1-score   support\n",
      "\n",
      "         0.0       0.58      0.90      0.71      1088\n",
      "         1.0       0.61      0.20      0.30       879\n",
      "\n",
      "   micro avg       0.59      0.59      0.59      1967\n",
      "   macro avg       0.60      0.55      0.51      1967\n",
      "weighted avg       0.60      0.59      0.53      1967\n",
      "\n"
     ]
    }
   ],
   "source": [
    "print(confusion_matrix(y_pred, y))\n",
    "print('-----------------------------------------------------------')\n",
    "print(classification_report(y_pred, y))"
   ]
  },
  {
   "cell_type": "code",
   "execution_count": 620,
   "metadata": {},
   "outputs": [
    {
     "data": {
      "text/plain": [
       "1    995\n",
       "0    972\n",
       "dtype: int64"
      ]
     },
     "execution_count": 620,
     "metadata": {},
     "output_type": "execute_result"
    }
   ],
   "source": [
    "#Single linkage hierarchical clustering  Or Ward Connectivity-based Clustering\n",
    "from sklearn.cluster import AgglomerativeClustering\n",
    "clf = AgglomerativeClustering().fit(X_ss)\n",
    "y_p = clf.labels_\n",
    "pd.value_counts(y_p)"
   ]
  },
  {
   "cell_type": "code",
   "execution_count": 621,
   "metadata": {},
   "outputs": [
    {
     "data": {
      "text/plain": [
       "<bound method BaseEstimator.get_params of AgglomerativeClustering(affinity='euclidean', compute_full_tree='auto',\n",
       "            connectivity=None, linkage='ward', memory=None, n_clusters=2,\n",
       "            pooling_func='deprecated')>"
      ]
     },
     "execution_count": 621,
     "metadata": {},
     "output_type": "execute_result"
    }
   ],
   "source": [
    "clf.get_params"
   ]
  },
  {
   "cell_type": "code",
   "execution_count": 617,
   "metadata": {},
   "outputs": [
    {
     "data": {
      "text/plain": [
       "0.5256736146415861"
      ]
     },
     "execution_count": 617,
     "metadata": {},
     "output_type": "execute_result"
    }
   ],
   "source": [
    "y_p=np.array(y_p).reshape(-1, 1)\n",
    "clf = LogisticRegression(random_state=0, solver='lbfgs', multi_class='multinomial',class_weight='balanced').fit(y_p, y)\n",
    "y_pred = clf.predict(y_p)\n",
    "y_pred=np.array(y_pred).reshape(-1, 1)\n",
    "clf.score(y_pred, y)"
   ]
  },
  {
   "cell_type": "code",
   "execution_count": 618,
   "metadata": {},
   "outputs": [
    {
     "name": "stdout",
     "output_type": "stream",
     "text": [
      "[[858 114]\n",
      " [819 176]]\n",
      "-----------------------------------------------------------\n",
      "              precision    recall  f1-score   support\n",
      "\n",
      "         0.0       0.51      0.88      0.65       972\n",
      "         1.0       0.61      0.18      0.27       995\n",
      "\n",
      "   micro avg       0.53      0.53      0.53      1967\n",
      "   macro avg       0.56      0.53      0.46      1967\n",
      "weighted avg       0.56      0.53      0.46      1967\n",
      "\n"
     ]
    }
   ],
   "source": [
    "print(confusion_matrix(y_pred, y))\n",
    "print('-----------------------------------------------------------')\n",
    "print(classification_report(y_pred, y))"
   ]
  },
  {
   "cell_type": "code",
   "execution_count": null,
   "metadata": {},
   "outputs": [],
   "source": []
  }
 ],
 "metadata": {
  "kernelspec": {
   "display_name": "Python 3",
   "language": "python",
   "name": "python3"
  },
  "language_info": {
   "codemirror_mode": {
    "name": "ipython",
    "version": 3
   },
   "file_extension": ".py",
   "mimetype": "text/x-python",
   "name": "python",
   "nbconvert_exporter": "python",
   "pygments_lexer": "ipython3",
   "version": "3.6.8"
  }
 },
 "nbformat": 4,
 "nbformat_minor": 2
}
